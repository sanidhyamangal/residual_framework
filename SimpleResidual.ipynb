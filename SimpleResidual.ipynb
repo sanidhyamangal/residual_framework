{
  "nbformat": 4,
  "nbformat_minor": 0,
  "metadata": {
    "colab": {
      "name": "SimpleResidual.ipynb",
      "provenance": [],
      "collapsed_sections": []
    },
    "kernelspec": {
      "name": "python3",
      "display_name": "Python 3"
    },
    "accelerator": "GPU"
  },
  "cells": [
    {
      "cell_type": "code",
      "metadata": {
        "id": "7t-Ft4Oq-NWM"
      },
      "source": [
        "import tensorflow as tf  # for deep learning\n",
        "from residual_layer import ResidualLayer2D # for Residual layer\n",
        "# from data_handler import data_loader_csv\n",
        "import os\n",
        "import time "
      ],
      "execution_count": null,
      "outputs": []
    },
    {
      "cell_type": "code",
      "metadata": {
        "id": "IXY3UDRd-qnb",
        "outputId": "53e9077f-70de-4283-a04b-e3425b791903",
        "colab": {
          "base_uri": "https://localhost:8080/",
          "height": 52
        }
      },
      "source": [
        "# create cifar dataset\n",
        "(X_train, Y_train), (X_test, Y_test) = tf.keras.datasets.cifar10.load_data()\n",
        "train_data = tf.data.Dataset.from_tensor_slices((tf.cast(X_train, tf.float32),tf.squeeze(tf.cast(Y_train, tf.float32)))).shuffle(50000).batch(64)\n",
        "test_data = tf.data.Dataset.from_tensor_slices((tf.cast(X_test, tf.float32),tf.squeeze(tf.cast(Y_test, tf.float32)))).shuffle(10000).batch(64)"
      ],
      "execution_count": null,
      "outputs": [
        {
          "output_type": "stream",
          "text": [
            "Downloading data from https://www.cs.toronto.edu/~kriz/cifar-10-python.tar.gz\n",
            "170500096/170498071 [==============================] - 4s 0us/step\n"
          ],
          "name": "stdout"
        }
      ]
    },
    {
      "cell_type": "code",
      "metadata": {
        "id": "fjx7iVA6-vgE"
      },
      "source": [
        "# create a basic model\n",
        "class Residual(tf.keras.Model):\n",
        "    def __init__(self, classes, *args, **kwargs):\n",
        "        self.classes = classes\n",
        "        super(Residual, self).__init__(*args, **kwargs)\n",
        "\n",
        "        self.model = tf.keras.models.Sequential([\n",
        "            tf.keras.layers.Conv2D(filters=32,\n",
        "                                   kernel_size=3,\n",
        "                                   padding=\"same\",),\n",
        "            ResidualLayer2D(filters=32),\n",
        "            ResidualLayer2D(filters=32),\n",
        "            tf.keras.layers.Flatten(),\n",
        "            tf.keras.layers.Dense(128, activation=tf.nn.relu),\n",
        "            tf.keras.layers.Dropout(rate=0.3),\n",
        "            tf.keras.layers.Dense(self.classes)\n",
        "        ])\n",
        "\n",
        "    def call(self, inputs):\n",
        "        return self.model(inputs / 255.0)\n",
        "\n",
        "model = Residual(10)"
      ],
      "execution_count": null,
      "outputs": []
    },
    {
      "cell_type": "code",
      "metadata": {
        "id": "bBeqGnkY_jIV"
      },
      "source": [
        "model.compile(optimizer=tf.optimizers.Adam(), loss=tf.losses.SparseCategoricalCrossentropy(from_logits=True))"
      ],
      "execution_count": null,
      "outputs": []
    },
    {
      "cell_type": "code",
      "metadata": {
        "id": "1wH3QlLw_xOH"
      },
      "source": [
        "model.fit_generator(train_data, epochs=5, validation_data=test_data)"
      ],
      "execution_count": null,
      "outputs": []
    }
  ]
}